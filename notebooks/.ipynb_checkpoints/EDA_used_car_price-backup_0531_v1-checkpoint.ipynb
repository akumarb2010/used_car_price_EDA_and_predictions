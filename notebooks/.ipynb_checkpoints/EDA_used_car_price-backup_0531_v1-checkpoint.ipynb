{
 "cells": [
  {
   "cell_type": "markdown",
   "id": "e4884284-4b1d-4559-91e8-e125059d24cf",
   "metadata": {},
   "source": [
    "# What Drives the Used Car Price?"
   ]
  },
  {
   "cell_type": "markdown",
   "id": "bfb9e409-b536-4db7-8091-f3e34f25bb87",
   "metadata": {},
   "source": [
    "Used cars market is a large market and the car prices are often depends on multiple factors.\n",
    "\n",
    "Suppose as a Data Scientist/Data Engineer/ML engineer we would like to present your recommendations on what features drives used car price to your client say Used Car Dealer\n",
    "\n",
    "So before applying prediction models, it's very important to perform EDA on given input. \n",
    "\n",
    "In this notebook we are going to perform \n",
    "- Understanding data insights\n",
    "- Based on raw data observations, apply all necessary data cleaning techniques\n",
    "- Enrich the data\n",
    "- Finalize the required features\n"
   ]
  },
  {
   "cell_type": "markdown",
   "id": "4535752e-99b9-4600-8e45-8da2ca92aea9",
   "metadata": {},
   "source": [
    "## Problem Statement"
   ]
  },
  {
   "cell_type": "markdown",
   "id": "dc40263b-48a5-4d3e-b683-4867e226c007",
   "metadata": {},
   "source": [
    "Your goal is to understand what factors make a car more or less expensive. As a result of your analysis, you should provide clear recommendations to your client—a used car dealership—as to what consumers value in a used car"
   ]
  },
  {
   "cell_type": "markdown",
   "id": "c4187ac1-a4d8-425f-8a04-ffb92525f909",
   "metadata": {},
   "source": [
    "### Libraries Used For This Analysis\n"
   ]
  },
  {
   "cell_type": "code",
   "execution_count": null,
   "id": "51f1ead2-38e3-435a-95ed-dc3ed2d40619",
   "metadata": {},
   "outputs": [],
   "source": [
    "# For this analysis, we are going to use below libraries\n",
    "import pandas as pd\n",
    "import numpy as np\n",
    "\n",
    "# For visualization\n",
    "import matplotlib.pyplot as plt\n",
    "import seaborn as sns\n",
    "\n",
    "# For feature engineering/pre processing\n",
    "from sklearn.preprocessing import OneHotEncoder, LabelEncoder\n",
    "from sklearn.preprocessing import StandardScaler, MinMaxScaler\n",
    "from sklearn.impute import SimpleImputer\n",
    "\n",
    "# For modeling\n",
    "from sklearn.model_selection import train_test_split\n",
    "from sklearn.linear_model import LinearRegression\n",
    "from sklearn.tree import DecisionTreeRegressor\n",
    "from sklearn.ensemble import GradientBoostingRegressor, RandomForestRegressor\n",
    "from sklearn.model_selection import RandomizedSearchCV\n",
    "from sklearn.model_selection import GridSearchCV\n",
    "\n",
    "# For model perf measurement\n",
    "from sklearn.metrics import mean_absolute_error, mean_squared_error, r2_score\n",
    "from sklearn.model_selection import cross_val_score"
   ]
  },
  {
   "cell_type": "markdown",
   "id": "29ab0146-5876-4d68-b482-8b43af31f3dc",
   "metadata": {},
   "source": [
    "### Common Functions used in this analysis"
   ]
  },
  {
   "cell_type": "code",
   "execution_count": null,
   "id": "d1db16b2-0773-4270-9caa-6c8fc7ab1222",
   "metadata": {},
   "outputs": [],
   "source": [
    "# Functions to help with dataframe insights \n",
    "\n",
    "def null_values_per_column(df):\n",
    "    '''\n",
    "    List the null values count per column (This is useful to get raw na counts per column level)\n",
    "    \n",
    "    df: Input pandas dataframe\n",
    "    \n",
    "    returns\n",
    "        the null values per column\n",
    "    '''\n",
    "    return df.isna().sum()\n",
    "\n",
    "\n",
    "def null_values_pct_per_column(df):\n",
    "    '''\n",
    "    List % of null values count per column (This is useful understand over all na % per column)\n",
    "    \n",
    "    df: Input pandas dataframe\n",
    "    \n",
    "    returns\n",
    "        the % of null values per column\n",
    "    '''\n",
    "    return (df.isna().sum() * 100)/len(df)\n",
    "\n",
    "def get_cardinality_of_each_column(df):\n",
    "    '''\n",
    "    List the cardinality of each column \n",
    "    \n",
    "    df: Input pandas dataframe\n",
    "    \n",
    "    returns\n",
    "        disctionary of {column name} -> {it's corresponding distinct value count}\n",
    "    '''\n",
    "    column_cardinality_dict = {}\n",
    "    for col in df.columns:\n",
    "        column_cardinality_dict[col] = df[col].nunique()\n",
    "    return column_cardinality_dict\n",
    "        \n",
    "    \n",
    "\n",
    "def get_unique_feature_values(df, features):\n",
    "    '''\n",
    "    Gets the list of unique values per each given feature\n",
    "\n",
    "    df: input pandas dataframe\n",
    "    features: List of provided features\n",
    "    \n",
    "    returns: dictionary of feature vs it's unique values\n",
    "    \n",
    "    '''\n",
    "    unique_feature_values = {}\n",
    "    for feature in features:\n",
    "        unique_feature_values[feature] = df[feature].unique()\n",
    "    return unique_feature_values\n",
    "\n",
    "# Data cleaning functions \n",
    "## filling with mode\n",
    "def fill_missing_values_with_mode(df, features):\n",
    "    '''\n",
    "    Transoforms the input dataframe, by filling missing values of \n",
    "    each given feature column with their corresponding mode\n",
    "\n",
    "    df: input pandas dataframe\n",
    "    features: list of provided features\n",
    "\n",
    "    returns: pandas dataframe by filling missing values with mode\n",
    "    '''\n",
    "    for feature in features:\n",
    "        df[feature] = df[feature].fillna(df[feature].mode()[0])\n",
    "    return df\n",
    "\n",
    "def replace_with_first_n_digits(df, n, column_name):\n",
    "    '''\n",
    "    Replaces number column values with it's first n digits of column values\n",
    "\n",
    "    df: input pandas dataframe\n",
    "    column_name: numeric column name\n",
    "\n",
    "    returns: dataframe with replaced column values\n",
    "    '''\n",
    "    df[column_name] = df[column_name].astype(int)\n",
    "    df[column_name] = df[column_name].mod(n)\n",
    "    return df\n",
    "    \n"
   ]
  },
  {
   "cell_type": "markdown",
   "id": "a7dbda7f-0934-44dc-832c-79699277fb26",
   "metadata": {},
   "source": [
    "## Data Set"
   ]
  },
  {
   "cell_type": "markdown",
   "id": "03b0e2fe-9d1e-4022-8ebd-e5f6e40b4c37",
   "metadata": {},
   "source": [
    "In this application, we will explore [Kaggle Used Car Dataset](https://www.kaggle.com/datasets/austinreese/craigslist-carstrucks-data)\n",
    "\n",
    "The original dataset contained information on 3 million used cars. The provided dataset contains information on 426K cars to ensure the speed of processing. \n",
    "\n"
   ]
  },
  {
   "cell_type": "code",
   "execution_count": null,
   "id": "116b00eb-8508-4a38-9e6c-f31ab36afe1c",
   "metadata": {},
   "outputs": [],
   "source": [
    "# read the data and input schema\n",
    "raw_used_cars = pd.read_csv('../data/vehicles.csv')"
   ]
  },
  {
   "cell_type": "markdown",
   "id": "f29f1eda-0510-4bcc-b05a-0de6189a7306",
   "metadata": {},
   "source": [
    "## Exploratory Data Analysis (EDA) "
   ]
  },
  {
   "cell_type": "code",
   "execution_count": null,
   "id": "54636400-15ad-4bf2-8b45-208ee2271e27",
   "metadata": {},
   "outputs": [],
   "source": [
    "raw_used_cars.info()"
   ]
  },
  {
   "cell_type": "code",
   "execution_count": null,
   "id": "c49dd09e-abfc-4df8-9669-13fc0c95336c",
   "metadata": {},
   "outputs": [],
   "source": [
    "# Size of input dataset\n",
    "print(raw_used_cars.shape)\n",
    "# sample input records\n",
    "raw_used_cars.head()"
   ]
  },
  {
   "cell_type": "code",
   "execution_count": null,
   "id": "468c13aa-e560-4093-9382-5320a43b632d",
   "metadata": {},
   "outputs": [],
   "source": [
    "# Taking a look at one of the car \n",
    "car1 = raw_used_cars.loc[100]\n",
    "car1"
   ]
  },
  {
   "cell_type": "code",
   "execution_count": null,
   "id": "7b2f4c19-4d4f-4b99-9f25-7d1dbf2dbf5d",
   "metadata": {},
   "outputs": [],
   "source": [
    "# Checking null values across columns\n",
    "null_values_per_column(raw_used_cars)\n"
   ]
  },
  {
   "cell_type": "code",
   "execution_count": null,
   "id": "e1020a20-269a-473f-848f-8b380f8020b1",
   "metadata": {},
   "outputs": [],
   "source": [
    "# na % per column\n",
    "null_values_pct_per_column(raw_used_cars)"
   ]
  },
  {
   "cell_type": "markdown",
   "id": "2fd5f892-198a-4dab-85e4-56bae3d978da",
   "metadata": {},
   "source": [
    "Notes :\n",
    "- condition, cylinders, VIN, drive and paint_color columsn has almost 30-40% null values\n",
    "- size has 71% of null values"
   ]
  },
  {
   "cell_type": "code",
   "execution_count": null,
   "id": "9537b5be-62a6-43d0-a858-683504d9960a",
   "metadata": {},
   "outputs": [],
   "source": [
    "# cardinality of each column \n",
    "get_cardinality_of_each_column(raw_used_cars)"
   ]
  },
  {
   "cell_type": "code",
   "execution_count": null,
   "id": "51274ebb-fb8a-4094-b197-f6c4e55e23c4",
   "metadata": {},
   "outputs": [],
   "source": [
    "# For each of the below features which has null values, let's look into their other non null vaules\n",
    "features_with_null_values = ['size', 'paint_color', 'drive', 'condition', 'type', 'model', 'cylinders','odometer','manufacturer', 'title_status', 'transmission']\n",
    "get_unique_feature_values(raw_used_cars, features_with_null_values)"
   ]
  },
  {
   "cell_type": "markdown",
   "id": "74ede883-3483-490d-9246-5a9a2b7d7256",
   "metadata": {},
   "source": [
    "### Data Cleaning (Missing Data Handling)\n",
    "\n",
    "As we can see, input data is not complete and few of the key features have missing data. Before applying any ML model's we need to clean this input features.\n",
    "\n",
    "So I am making following decisions to fill the missing data\n",
    "\n",
    "#### Drop un necessary features\n",
    "- `VIN` (not required)\n",
    "- `state` (Assuming customer decisions remains same across all states in USA)\n",
    "- `size` (This column is very important, but this feature has 70% null values and also just to note, this can be indirectly infered from type\n",
    "\n",
    "#### Fill missing values with mode\n",
    "- For 'drive', 'type','paint_color', 'condition', 'cylinders', 'title_status', 'fuel' features, fill the missing values with mode(most frequent feature value)\n",
    "\n",
    "#### Drop samples \n",
    "- For essential features like `model and manufacturer`, where any derived value can mis lead, so dropping such samples\n",
    "\n",
    "#### Forward filling of missing values\n",
    "- Fill the `odometer` feature missing values with ffill() (Fills with previous non null values)\n"
   ]
  },
  {
   "cell_type": "code",
   "execution_count": null,
   "id": "eebc7d4f-0883-4ce3-b357-6b8b4f076174",
   "metadata": {},
   "outputs": [],
   "source": [
    "# droping the below features\n",
    "drop_features = ['size', 'VIN', 'state','id']\n",
    "cleaned_data = raw_used_cars.drop(columns=drop_features)\n",
    "\n",
    "print('features before clean up: {}'.format(raw_used_cars.shape[1]))\n",
    "print('features after clean up: {}'.format(cleaned_data.shape[1]))"
   ]
  },
  {
   "cell_type": "code",
   "execution_count": null,
   "id": "003b5b44-f27b-4850-9928-ae16dc1e2e01",
   "metadata": {},
   "outputs": [],
   "source": [
    "# Filling missing values with their corresponding mode\n",
    "features_to_fill_mode = ['drive', 'type','paint_color', 'condition', 'cylinders', 'title_status', 'fuel', 'transmission']\n",
    "cleaned_data = fill_missing_values_with_mode(cleaned_data, features_to_fill_mode)\n"
   ]
  },
  {
   "cell_type": "code",
   "execution_count": null,
   "id": "b1981ca1-01f1-478b-b6c9-4fbee29cdafe",
   "metadata": {},
   "outputs": [],
   "source": [
    "# dropping samples where model or manufacturer are null\n",
    "cleaned_data.dropna(subset=['model', 'manufacturer'], inplace=True)"
   ]
  },
  {
   "cell_type": "code",
   "execution_count": null,
   "id": "19390487-cfb4-4e11-abe3-58e7bbc7d5b7",
   "metadata": {},
   "outputs": [],
   "source": [
    "# Now only remaing feature with null values is `odometer`. So I am filling it with previous non value using ffill\n",
    "cleaned_data['odometer'] = cleaned_data['odometer'].ffill()\n"
   ]
  },
  {
   "cell_type": "markdown",
   "id": "76d049a7-3496-4605-9499-654f798cf3b4",
   "metadata": {},
   "source": [
    "#### Now there is no other feature left with null values. Woo hoo ...\n"
   ]
  },
  {
   "cell_type": "code",
   "execution_count": null,
   "id": "a89aaba5-142d-40c2-ac91-ffeb7f7e2a1a",
   "metadata": {},
   "outputs": [],
   "source": [
    "cleaned_data.info()"
   ]
  },
  {
   "cell_type": "markdown",
   "id": "a3226db5-d80e-4b8d-a8a9-fe3ae03fdbea",
   "metadata": {},
   "source": [
    "#### Rounding few key feature values"
   ]
  },
  {
   "cell_type": "code",
   "execution_count": null,
   "id": "ebdfa1e7-a3fa-4a33-8e71-ef781e3f7713",
   "metadata": {},
   "outputs": [],
   "source": [
    "cleaned_data.describe()\n",
    "\n",
    "# Fixing the price values and truncating them to first 5 digits\n",
    "cleaned_data = replace_with_first_n_digits(cleaned_data, 100000, 'price')\n",
    "\n",
    "# Fixing the odometer\n",
    "cleaned_data = replace_with_first_n_digits(cleaned_data, 100000, 'odometer')\n",
    "\n",
    "cleaned_data.describe()"
   ]
  },
  {
   "cell_type": "markdown",
   "id": "ba442604-6e98-4595-a40c-41a946bde029",
   "metadata": {},
   "source": [
    "#### Fixing the model user entered values"
   ]
  },
  {
   "cell_type": "code",
   "execution_count": null,
   "id": "c4b7a106-7346-460c-92de-df71d41d388c",
   "metadata": {},
   "outputs": [],
   "source": [
    "cleaned_data.describe(include = ['object'])"
   ]
  },
  {
   "cell_type": "code",
   "execution_count": null,
   "id": "62377cc0-6608-4790-ac4f-b620bf56946e",
   "metadata": {},
   "outputs": [],
   "source": [
    "# As you can observe, for 41 manufactures, number of models seems to be very huge. This is due to UED data\n",
    "# Ideal way to handle this is using clustering, but for now I am considering only first word from model. \n",
    "# So this reduced the cardinality, from 23K to 3K\n",
    "cleaned_data['model'] = cleaned_data['model'].str.split(' ').str[0].str.lower()"
   ]
  },
  {
   "cell_type": "code",
   "execution_count": null,
   "id": "76cb0364-0366-4cd5-815b-4b5f74f36c98",
   "metadata": {},
   "outputs": [],
   "source": [
    "cleaned_data.describe(include = ['object'])"
   ]
  },
  {
   "cell_type": "code",
   "execution_count": null,
   "id": "c30715d0-ae08-47c1-9d0c-4e13ec7f4c62",
   "metadata": {},
   "outputs": [],
   "source": []
  },
  {
   "cell_type": "markdown",
   "id": "02d3255f-1264-4a95-b384-c716d306a394",
   "metadata": {},
   "source": [
    "### Encodings\n",
    "\n",
    "Now as we have already taken care of all null value issues, let's take a deeper look into high cardinality features and it's relations with other features\n"
   ]
  },
  {
   "cell_type": "code",
   "execution_count": null,
   "id": "6fd915ea-ec86-4456-850e-c6c1b1db42d5",
   "metadata": {},
   "outputs": [],
   "source": [
    "# How many models per manufacturer\n",
    "models_per_manufacturer = cleaned_data.groupby('manufacturer')['model'].nunique().to_dict()\n",
    "#print(models_per_manufacturer)\n",
    "\n",
    "fig, ax = plt.subplots(figsize=(10,13))\n",
    "ax.barh(list(models_per_manufacturer.keys()), list(models_per_manufacturer.values()))\n",
    "plt.show()"
   ]
  },
  {
   "cell_type": "code",
   "execution_count": null,
   "id": "8210f344-86c1-451f-9443-6fe87d60c467",
   "metadata": {},
   "outputs": [],
   "source": [
    "# Observe the unique model list [TBD, some transformation is required on model values]\n",
    "\n",
    "'''\n",
    "cleaned_data[cleaned_data['manufacturer'].isin(['ford'])]['model'].unique()\n",
    "\n",
    "cleaned_data[cleaned_data['manufacturer'].isin(['chevrolet'])]['model'].unique()\n",
    "\n",
    "cleaned_data[cleaned_data['manufacturer'].isin(['bmw'])]['model'].unique()\n",
    "'''\n",
    "#cleaned_data[cleaned_data['manufacturer'].isin(['ford'])].sort_values(by='model', ascending=False)['model'].head(30)\n",
    "\n",
    "#raw_used_cars[raw_used_cars['manufacturer'].isin(['ford'])].sort_values(by='model', ascending=False)['model'].head(30)\n",
    "#cleaned_data[cleaned_data['manufacturer'].isin(['ford'])].sort_values(by='model', ascending=False)['model'].head(30)\n",
    "\n",
    "top_models_per_brand = raw_used_cars[raw_used_cars['manufacturer'].isin(['ford'])].groupby('manufacturer')['model'].value_counts().head(50)\n",
    "print(top_models_per_brand)\n",
    "\n",
    "#top_models_per_brand = cleaned_data[cleaned_data['manufacturer'].isin(['ford'])].groupby('manufacturer')['model'].value_counts().head(50)\n",
    "#print(top_models_per_brand)\n",
    "\n",
    "\n",
    "#cleaned_data[cleaned_data['manufacturer'].isin(['chevrolet'])]['model'].nlargest(n=30)\n",
    "\n",
    "#cleaned_data[cleaned_data['manufacturer'].isin(['bmw'])]['model'].nlargest(n=30)\n"
   ]
  },
  {
   "cell_type": "markdown",
   "id": "851edc47-cc3f-4833-9c35-d3ed1b20379d",
   "metadata": {},
   "source": [
    "**Note:** After going through unique model values for ford/chevrolet/bmw manufactorers, model data has lots of issues\n",
    "- One quick observation is `-`. For example `f-150` vs `f150`. So fixing this issue"
   ]
  },
  {
   "cell_type": "code",
   "execution_count": null,
   "id": "b0af796f-1167-41e8-9306-422fe1d9e675",
   "metadata": {},
   "outputs": [],
   "source": [
    "cleaned_data['model'] = cleaned_data['model'].str.replace('-', '')"
   ]
  },
  {
   "cell_type": "code",
   "execution_count": null,
   "id": "06c7d2ff-bcaf-4bb8-b543-ca456b979943",
   "metadata": {},
   "outputs": [],
   "source": [
    "cleaned_data.describe(include = ['object'])"
   ]
  },
  {
   "cell_type": "markdown",
   "id": "f0e553d5-e53e-4ab8-840b-8298f8f94d16",
   "metadata": {},
   "source": [
    "Note : Number of models per manufacturer for ford and chevrolet seems to be still very high, so further deep dive feature engineering is needed\n"
   ]
  },
  {
   "cell_type": "markdown",
   "id": "7a09e384-96c7-495e-ba00-bf3ca9613e46",
   "metadata": {},
   "source": [
    "## Data Insights with Visualization"
   ]
  },
  {
   "cell_type": "code",
   "execution_count": null,
   "id": "0c550083-2066-4436-9eb5-1c14ac1f6be9",
   "metadata": {},
   "outputs": [],
   "source": [
    "plt.figure(figsize=(6,4))\n",
    "plt.title('Car Price ')\n",
    "sns.boxplot(y=cleaned_data.price)\n",
    "plt.show()"
   ]
  },
  {
   "cell_type": "code",
   "execution_count": null,
   "id": "ff7db522-baaf-4cf0-80b5-2d594ffd6df1",
   "metadata": {},
   "outputs": [],
   "source": [
    "plt.figure(figsize=(4,2))\n",
    "sns.displot(cleaned_data.price, rug=True, color=\"orange\")\n",
    "plt.title('Used Car Price Distribution')"
   ]
  },
  {
   "cell_type": "markdown",
   "id": "1e2fe045-6f78-4068-90bd-7bf1add96b85",
   "metadata": {},
   "source": [
    "**Note :** From the above price distribution and boxplot charts\n",
    "- Most of the car prices are < 20K and distribution is right skewed\n",
    "- From the box plot\n",
    "    -  p50(median) is 14K\n",
    "    - Above 60K are outliers"
   ]
  },
  {
   "cell_type": "markdown",
   "id": "dacd660e-ca89-4e0b-a42e-0b141d8eff9f",
   "metadata": {},
   "source": [
    "### Distributions per Categorical Type\n"
   ]
  },
  {
   "cell_type": "code",
   "execution_count": null,
   "id": "0e634e0b-88ce-4286-a01f-4a670b192dc2",
   "metadata": {},
   "outputs": [],
   "source": [
    "categorical_data = cleaned_data.select_dtypes(include = 'object')\n",
    "categorical_data.head()"
   ]
  },
  {
   "cell_type": "code",
   "execution_count": null,
   "id": "07a6cfd1-8924-40a1-b71a-c564f891c17e",
   "metadata": {},
   "outputs": [],
   "source": [
    "categorical_data.columns"
   ]
  },
  {
   "cell_type": "code",
   "execution_count": null,
   "id": "8458f29b-33d1-421f-b5c8-b50665ddf74a",
   "metadata": {},
   "outputs": [],
   "source": [
    "categorical_columns = categorical_data.columns.tolist()\n",
    "\n",
    "features_to_be_removed = {'region', 'model'}\n",
    "categorical_columns_for_plotting = [column for column in categorical_columns if column not in features_to_be_removed ]\n",
    "\n",
    "fig, axes = plt.subplots(len(categorical_columns_for_plotting), 1, figsize=(10, 30), sharey=True)\n",
    "for i, ax in enumerate(fig.axes):\n",
    "    sns.histplot(ax=ax, x=cleaned_data[categorical_columns_for_plotting[i]], stat='percent')\n",
    "    ax.set_title(f'{categorical_columns_for_plotting[i]} histograme', fontsize=16)\n",
    "    ax.tick_params(axis='x', rotation=90)\n",
    "\n",
    "plt.tight_layout()\n",
    "plt.show()"
   ]
  },
  {
   "cell_type": "markdown",
   "id": "57398d2d-8a48-4f58-9637-abc4553eb1da",
   "metadata": {},
   "source": [
    "#### Feature distribution Summary\n",
    "*Observations:* From the above feature hist distributions\n",
    "\n",
    "- Used cars market is dominated by Ford(20%), Chevrolet(15%), toyota(10%), honda(5%), gmc(3%) and bmw(2%) etc.,\n",
    "- Condition of cars\n",
    "    - 70% of the used cars are in good condition\n",
    "    - 25% of them are in excellent condition\n",
    "    - 5% of them almso new\n",
    "- Cylinder type\n",
    "    - 65% of them are cylinders\n",
    "    - each of the 4 and 8 cyliders remaining % equally (which is almost 15% each)\n",
    "- Fuel Type\n",
    "    - 85% of them are gas\n",
    "    - 5% of them diesel and remaining others like electric/hybrid (As electric is very less, so this shows the dataset is very old...)\n",
    "- Title status\n",
    "    - 95% of them have clean titles\n",
    "- Transmission type\n",
    "    - Almsot 80% of them are automatic\n",
    "- Drive type\n",
    "    - 60% of them are four wheel drive\n",
    "    - 25% of them are fwd drive\n",
    "- Type distribution\n",
    "    - 40% of them are Sedan\n",
    "    - 18% of them are SUV\n",
    "- Color distribution (color might not contribute price value but it is definitely one of the purchase decision factor)\n",
    "    - 50% of the white\n",
    "    - 15% of them black"
   ]
  },
  {
   "cell_type": "markdown",
   "id": "b6ef7366-2442-42a5-962e-ef1459622f76",
   "metadata": {},
   "source": [
    "### Let's observe the price distribution per caterorical type"
   ]
  },
  {
   "cell_type": "code",
   "execution_count": null,
   "id": "713b8a5d-69ef-437d-823f-21bb3f65f3e4",
   "metadata": {},
   "outputs": [],
   "source": [
    "# Let's check how each categorical type feature impacts price\n",
    "\n",
    "# Without subplots\n",
    "for i, column in enumerate(categorical_columns_for_plotting):\n",
    "    plt.figure(figsize=(8, 3))\n",
    "    sns.boxplot(x= cleaned_data[column], y = cleaned_data['price'], patch_artist=True)\n",
    "    plt.title(f'{column} distribution', fontsize=16)\n",
    "    plt.xlabel(f'{column}')\n",
    "    plt.ylabel('price')\n",
    "    plt.xticks(rotation=90)\n",
    "    plt.show()"
   ]
  },
  {
   "cell_type": "markdown",
   "id": "b78846bd-8524-4ce7-a8b3-70a6751de686",
   "metadata": {},
   "source": [
    "****Categorical type features impact on price Observations****\n",
    "- prices by brands\n",
    "    - `aston-martin` brand has highest price\n",
    "    - just to note, used `electric` vehicles like `tesla` has high price\n",
    "    - `land-rover` has least used car price\n",
    "- prices by condition\n",
    "    - `good` and `new` condition has high prices\n",
    "    - `fair` and `salvage` conditioned used vehicles has least prices\n",
    "- prices by cyliders\n",
    "    - Seems highly demanded types like `8/6` cylider types has more price than `10/12` cylinders\n",
    "- prices by fuel types\n",
    "    - `diesel` and `electic` fuel types has higher prices than `gas` fuel type\n",
    "- prices by title status\n",
    "    - `clean` and `lien` status used cars has more price\n",
    "    - `missing/salvage` and `parts only` statuses has less price\n",
    "- prices by transmission type\n",
    "    - `other` transmission type has higher price, but unfortunately we don't have further details on other types, most likely it might be electric cars\n",
    "    - `automatic` pricier than `manual`\n",
    "- prices by type\n",
    "    - `pickup/truck/coupe` types has higher prices\n",
    "    - `mini-vans` has lowest price\n",
    "- prices by car paint color\n",
    "    - seems paint color is not determining the car price. So better to drop this feature\n"
   ]
  },
  {
   "cell_type": "markdown",
   "id": "b750ecf7-6935-4ad8-bb07-509cd8eac488",
   "metadata": {},
   "source": [
    "### Finalized categorical features\n",
    "\n",
    "Based on above observations from distributions, finalizing the below set of features which has impact on `price`\n",
    "- manufacturer\n",
    "- condition\n",
    "- cylinders\n",
    "- fuel\n",
    "- title_status\n",
    "- transmission\n",
    "- drive\n",
    "- type"
   ]
  },
  {
   "cell_type": "code",
   "execution_count": null,
   "id": "86e5ab8f-99b8-4ab5-b205-30e9ff83dfba",
   "metadata": {},
   "outputs": [],
   "source": [
    "finalized_categorical_features = categorical_columns_for_plotting\n",
    "print(finalized_categorical_features)"
   ]
  },
  {
   "cell_type": "markdown",
   "id": "a667e6a4-8333-46cc-be15-85a49405a94c",
   "metadata": {},
   "source": [
    "### Encoding Categorical Types\n"
   ]
  },
  {
   "cell_type": "code",
   "execution_count": null,
   "id": "bfab3178-46aa-465e-9f13-8dd92a7172a2",
   "metadata": {},
   "outputs": [],
   "source": [
    "# One-Hot Encoding of categorical features\n",
    "#cleaned_data.info()\n",
    "#cleaned_data = cleaned_data.drop(columns=['model', 'paint_color', 'region'], axis=1)\n",
    "cleaned_encoded_data = pd.get_dummies(cleaned_data, columns=finalized_categorical_features, drop_first=True)\n",
    "cleaned_encoded_data.head()"
   ]
  },
  {
   "cell_type": "code",
   "execution_count": null,
   "id": "dce4caa4-eba2-400c-800f-2dc2686d2b6a",
   "metadata": {},
   "outputs": [],
   "source": []
  },
  {
   "cell_type": "markdown",
   "id": "ad964310-7b04-4aa5-a769-d803266fc97f",
   "metadata": {},
   "source": [
    "####  Numerical Type Features impact on price"
   ]
  },
  {
   "cell_type": "code",
   "execution_count": null,
   "id": "45e316e9-2347-4695-8c5c-169da53d7e37",
   "metadata": {},
   "outputs": [],
   "source": [
    "numerical_data = cleaned_encoded_data.select_dtypes(include=['float64', 'int64'])\n",
    "numerical_data.head()"
   ]
  },
  {
   "cell_type": "code",
   "execution_count": null,
   "id": "56176ecd-b7ce-4159-b779-cf1727b990e4",
   "metadata": {},
   "outputs": [],
   "source": [
    "# Histograms for numerical columns (TBD : Update this into re usable code)\n",
    "numerical_columns = numerical_data.columns.tolist()\n",
    "\n",
    "plt.figure(figsize=(15, 10))\n",
    "for i, col in enumerate(numerical_columns, 1):\n",
    "    plt.subplot(len(numerical_columns) // 3 + 1, 3, i)  \n",
    "    numerical_data[col].hist(bins=30, color='skyblue', edgecolor='black')\n",
    "    plt.title(f'Histogram of {col}')\n",
    "plt.tight_layout()\n",
    "plt.show()"
   ]
  },
  {
   "cell_type": "markdown",
   "id": "aaf42d6f-e531-415c-9f08-092f0ce65104",
   "metadata": {},
   "source": [
    "#### Observations from numerical feature distributions\n",
    "- Odometer is evenly distributed, just to note there are good number with < 5K odometer value\n",
    "- most of the cars from 2015-2020 make year\n",
    "- As we observed most of the used car prices are < 40K"
   ]
  },
  {
   "cell_type": "code",
   "execution_count": null,
   "id": "214cf2b8-34a2-4ae6-9a1b-d6c3a614b366",
   "metadata": {},
   "outputs": [],
   "source": [
    "numerical_data.columns"
   ]
  },
  {
   "cell_type": "markdown",
   "id": "7b5a4a00-db89-4439-be3b-fcff50b0f94a",
   "metadata": {},
   "source": [
    "#### correlation analysis\n"
   ]
  },
  {
   "cell_type": "code",
   "execution_count": null,
   "id": "3b47eb74-06bf-4504-8c68-4c8a1605c67f",
   "metadata": {},
   "outputs": [],
   "source": [
    "numerical_data.corr()"
   ]
  },
  {
   "cell_type": "code",
   "execution_count": null,
   "id": "aab4debe-f085-4448-ad1f-6f8c2be53e98",
   "metadata": {},
   "outputs": [],
   "source": [
    "plt.figure(figsize = (6,4))\n",
    "\n",
    "num_features = ['price','year','odometer']\n",
    "sns.heatmap(numerical_data.corr(), annot = True)"
   ]
  },
  {
   "cell_type": "markdown",
   "id": "8a70b87f-4e87-4ccc-8dc8-1ee41bcfabd3",
   "metadata": {},
   "source": [
    "#### Observations from numerical fearures impact on price\n",
    "- As we can see both `year` and `odometer` has correlation with price\n",
    "    - Latest `year` has more price\n",
    "    - Where as higher `odometer` feature value will have -ve impact on price"
   ]
  },
  {
   "cell_type": "markdown",
   "id": "5ac420bf-a9a2-47e8-a556-31db28d57e76",
   "metadata": {},
   "source": [
    "### Applying Transformations for Normalizing Numerical Features and hanlding missing value imputations"
   ]
  },
  {
   "cell_type": "markdown",
   "id": "3e42bbc9-c972-4c20-8590-45d73f5362fe",
   "metadata": {},
   "source": [
    "#### Imputation for Missing numerical values"
   ]
  },
  {
   "cell_type": "code",
   "execution_count": null,
   "id": "e3214ead-2dbc-476b-a5ad-f9942305d2f3",
   "metadata": {},
   "outputs": [],
   "source": [
    "cleaned_encoded_data = cleaned_encoded_data.reset_index()\n",
    "mean_imputater = SimpleImputer(missing_values=np.nan, strategy='mean')\n",
    "cleaned_encoded_data[numerical_feature_cols] = mean_imputater.fit_transform(cleaned_encoded_data[numerical_feature_cols])"
   ]
  },
  {
   "cell_type": "markdown",
   "id": "f65ce6e4-3da4-498b-b5fb-2de899d20e8c",
   "metadata": {},
   "source": [
    "#### MinMaxScaler Tranformation"
   ]
  },
  {
   "cell_type": "code",
   "execution_count": null,
   "id": "4705d354-1214-4eb4-b9e1-16603bbd5369",
   "metadata": {},
   "outputs": [],
   "source": [
    "# Using min max scaler as the data is not normally distributed (TBD extract into function)\n",
    "\n",
    "# Identify numerical columns, excluding the target variable 'price'\n",
    "numerical_feature_cols = cleaned_encoded_data.select_dtypes(include=['float64', 'int64']).columns.drop('price')\n",
    "\n",
    "# Initialize the scaler\n",
    "scaler = MinMaxScaler()\n",
    "\n",
    "# Scale only the selected numerical columns\n",
    "cleaned_encoded_data[numerical_feature_cols] = scaler.fit_transform(cleaned_encoded_data[numerical_feature_cols])\n",
    "cleaned_encoded_data.isnull().sum()"
   ]
  },
  {
   "cell_type": "code",
   "execution_count": null,
   "id": "7acccf4a-173f-48e2-b201-2ec4ccdeca4b",
   "metadata": {},
   "outputs": [],
   "source": []
  },
  {
   "cell_type": "code",
   "execution_count": null,
   "id": "f5f4dccf-4424-4812-9d80-d800ddbf63ab",
   "metadata": {},
   "outputs": [],
   "source": [
    "### "
   ]
  },
  {
   "cell_type": "markdown",
   "id": "d7285ebe-93f0-4a99-9170-fcff5fc6398a",
   "metadata": {},
   "source": [
    "### Finalized feature list across categorical and numerical types"
   ]
  },
  {
   "cell_type": "code",
   "execution_count": null,
   "id": "1f70183c-a29a-4d2d-96bd-d7b40d1c9487",
   "metadata": {},
   "outputs": [],
   "source": [
    "cleaned_encoded_data.info()"
   ]
  },
  {
   "cell_type": "markdown",
   "id": "3d769c1b-d5c6-4a57-a2a8-2939fdb9a43d",
   "metadata": {},
   "source": [
    "Below are the final finalized features for modeling \n",
    "- manufacturer\n",
    "- condition\n",
    "- cylinders\n",
    "- fuel\n",
    "- title_status\n",
    "- transmission\n",
    "- drive\n",
    "- type\n",
    "- year\n",
    "- odometer"
   ]
  },
  {
   "cell_type": "markdown",
   "id": "d39376dc-56c6-4b43-80ea-0b505dde2e2f",
   "metadata": {},
   "source": [
    "## EDA Summary"
   ]
  },
  {
   "cell_type": "markdown",
   "id": "1b2549c9-9db3-42e0-9a16-d3d18eeff7ba",
   "metadata": {},
   "source": [
    "# Price Predction Modeling"
   ]
  },
  {
   "cell_type": "code",
   "execution_count": null,
   "id": "12889659-d73a-4697-a90e-4fcf2a830e15",
   "metadata": {},
   "outputs": [],
   "source": [
    "# defining dependent and independent variables\n",
    "X = cleaned_encoded_data.drop(columns=['price']) \n",
    "y = cleaned_encoded_data['price']"
   ]
  },
  {
   "cell_type": "code",
   "execution_count": null,
   "id": "e232721d-c93a-4b63-8e0f-70c6827612c8",
   "metadata": {},
   "outputs": [],
   "source": [
    "# Splitting into training and testing sets\n",
    "X_train, X_test, y_train, y_test = train_test_split(X, y, test_size = 0.2, random_state = 42)\n",
    "print(f'Training dataset shape : {X_train.shape}],\\nTesting dataset shape: {X_test.shape}')"
   ]
  },
  {
   "cell_type": "code",
   "execution_count": null,
   "id": "7c6704f9-d678-4d80-8465-99bbf5b2366b",
   "metadata": {},
   "outputs": [],
   "source": [
    "# Initializing  models for prediction\n",
    "'''\n",
    "models = {\n",
    "    \"Linear Regression\": LinearRegression(),\n",
    "    \"Decision Tree\": DecisionTreeRegressor(random_state=42),\n",
    "    \"Random Forest\": RandomForestRegressor(random_state=42),\n",
    "    \"Gradient Boosting\": GradientBoostingRegressor(random_state=42)\n",
    "}\n",
    "'''\n",
    "\n",
    "models = {\n",
    "    \"Linear Regression\": LinearRegression(),\n",
    "    \"Decision Tree\": DecisionTreeRegressor(random_state=42)\n",
    "}"
   ]
  },
  {
   "cell_type": "code",
   "execution_count": null,
   "id": "c5ff5212-d9de-4156-bea8-1f9f5aebcbef",
   "metadata": {},
   "outputs": [],
   "source": [
    "# Dictionary to store performance metrics\n",
    "performance_metrics = {}\n",
    "\n",
    "for model_name, model in models.items():\n",
    "    # Training the model\n",
    "    model.fit(X_train, y_train)\n",
    "    \n",
    "    # Making predictions on the test set\n",
    "    y_pred = model.predict(X_test)\n",
    "    \n",
    "    # Calculate performance metrics\n",
    "    mae = mean_absolute_error(y_test, y_pred)\n",
    "    mse = mean_squared_error(y_test, y_pred)\n",
    "    r2 = r2_score(y_test, y_pred)\n",
    "    \n",
    "    # Storing metrics\n",
    "    performance_metrics[model_name] = {\n",
    "        \"MAE\": mae,\n",
    "        \"MSE\": mse,\n",
    "        \"R-squared\": r2\n",
    "    }\n",
    "\n",
    "# Converting metrics to a DataFrame for easier comparison\n",
    "performance_df = pd.DataFrame(performance_metrics).T\n",
    "print(\"Model Performance Comparison:\")\n",
    "print(performance_df)"
   ]
  },
  {
   "cell_type": "markdown",
   "id": "871e6bdb-8075-4f24-b77c-007b5c28aa7b",
   "metadata": {},
   "source": [
    "#### Recursive Feature Elimination (RFE) technique\n",
    "\n",
    "**Note** As we can observe high MAE and MSE values, that means models are overfitting \n",
    "So going to adopt Recursive Feature Elimination (RFE) technique"
   ]
  },
  {
   "cell_type": "code",
   "execution_count": null,
   "id": "3eda408e-0e81-4668-bc63-e01c7e5ca757",
   "metadata": {},
   "outputs": [],
   "source": [
    "# Importing RFE and LinearRegression\n",
    "from sklearn.feature_selection import RFE\n",
    "#from sklearn.linear_model import LinearRegression\n",
    "\n",
    "# Running RFE with the output number of the variable equal to 10\n",
    "lm = LinearRegression()\n",
    "lm.fit(X_train, y_train)\n",
    "\n",
    "rfe = RFE(lm, 11)                # running RFE\n",
    "rfe = rfe.fit(X_train, y_train)\n",
    "\n",
    "list(zip(X_train.columns,rfe.support_,rfe.ranking_))"
   ]
  },
  {
   "cell_type": "markdown",
   "id": "fff2cef6-2e09-46af-913f-05b8a6ed5280",
   "metadata": {},
   "source": [
    "### Observations"
   ]
  },
  {
   "cell_type": "markdown",
   "id": "4d427496-31e6-48c3-9d9b-6c63e3bd94d2",
   "metadata": {},
   "source": [
    "### Fine tuing the Model"
   ]
  },
  {
   "cell_type": "markdown",
   "id": "00a8baaa-6b82-48d7-bc1b-d5484afc8920",
   "metadata": {},
   "source": [
    "#### Grid search CV"
   ]
  },
  {
   "cell_type": "code",
   "execution_count": null,
   "id": "2cbe73f2-d880-4757-b7f6-4748e1d7e8ac",
   "metadata": {},
   "outputs": [],
   "source": [
    "# Parameter grid for GridSearchCV\n",
    "param_grid_rf = {\n",
    "    'n_estimators': [100, 200, 300],\n",
    "    'max_depth': [None, 10, 20, 30],\n",
    "    'min_samples_split': [2, 5, 10],\n",
    "    'min_samples_leaf': [1, 2, 4]\n",
    "}\n",
    "\n",
    "# GridSearchCV for Random Forest\n",
    "grid_search_rf = GridSearchCV(\n",
    "    RandomForestRegressor(random_state=42),\n",
    "    param_grid=param_grid_rf,\n",
    "    cv=5,\n",
    "    scoring='neg_mean_squared_error'\n",
    ")\n",
    "grid_search_rf.fit(X_train, y_train)\n",
    "\n",
    "# Best parameters and evaluation from GridSearchCV\n",
    "best_params_grid = grid_search_rf.best_params_\n",
    "best_model_grid = grid_search_rf.best_estimator_\n",
    "\n",
    "# Evaluate the GridSearchCV-tuned model\n",
    "y_pred_grid = best_model_grid.predict(X_test)\n",
    "final_mae_grid = mean_absolute_error(y_test, y_pred_grid)\n",
    "final_mse_grid = mean_squared_error(y_test, y_pred_grid)\n",
    "final_r2_grid = r2_score(y_test, y_pred_grid)\n",
    "\n",
    "print(\"GridSearchCV - Best Parameters:\", best_params_grid)\n",
    "print(\"GridSearchCV - Model Performance:\")\n",
    "print(\"MAE:\", final_mae_grid)\n",
    "print(\"MSE:\", final_mse_grid)\n",
    "print(\"R-squared:\", final_r2_grid)"
   ]
  },
  {
   "cell_type": "markdown",
   "id": "1684ad3a-783e-481d-9802-14d6351d0a12",
   "metadata": {},
   "source": [
    "#### Random search CV"
   ]
  },
  {
   "cell_type": "code",
   "execution_count": null,
   "id": "648cfe60-9f4c-4aec-8392-0a37bd63000f",
   "metadata": {},
   "outputs": [],
   "source": [
    "# Parameter distribution for RandomizedSearchCV\n",
    "param_dist_rf = {\n",
    "    'n_estimators': [100, 150, 200, 250],\n",
    "    'max_depth': [None, 10, 15, 20],\n",
    "    'min_samples_split': [2, 5, 10],\n",
    "    'min_samples_leaf': [1, 2, 4]\n",
    "}\n",
    "\n",
    "# RandomizedSearchCV for Random Forest\n",
    "random_search_rf = RandomizedSearchCV(\n",
    "    RandomForestRegressor(random_state=42),\n",
    "    param_distributions=param_dist_rf,\n",
    "    n_iter=10,\n",
    "    cv=5,\n",
    "    scoring='neg_mean_squared_error',\n",
    "    random_state=42\n",
    ")\n",
    "random_search_rf.fit(X_train, y_train)\n",
    "\n",
    "# Best parameters and evaluation from RandomizedSearchCV\n",
    "best_params_random = random_search_rf.best_params_\n",
    "best_model_random = random_search_rf.best_estimator_\n",
    "\n",
    "# Evaluate the RandomizedSearchCV-tuned model\n",
    "y_pred_random = best_model_random.predict(X_test)\n",
    "final_mae_random = mean_absolute_error(y_test, y_pred_random)\n",
    "final_mse_random = mean_squared_error(y_test, y_pred_random)\n",
    "final_r2_random = r2_score(y_test, y_pred_random)\n",
    "\n",
    "print(\"\\nRandomizedSearchCV - Best Parameters:\", best_params_random)\n",
    "print(\"RandomizedSearchCV - Model Performance:\")\n",
    "print(\"MAE:\", final_mae_random)\n",
    "print(\"MSE:\", final_mse_random)\n",
    "print(\"R-squared:\", final_r2_random)"
   ]
  },
  {
   "cell_type": "markdown",
   "id": "0393e066-2fe4-4fc0-9953-b9539b8dc80e",
   "metadata": {},
   "source": [
    "### Observations"
   ]
  },
  {
   "cell_type": "markdown",
   "id": "e2b1f2c0-7f88-4c71-8e4d-abf2c64fb8b4",
   "metadata": {},
   "source": [
    "### Summary"
   ]
  },
  {
   "cell_type": "markdown",
   "id": "dfbb2889-25c0-41e1-b264-c94f5d1ec1d8",
   "metadata": {},
   "source": [
    "### Conclusion"
   ]
  },
  {
   "cell_type": "code",
   "execution_count": null,
   "id": "4e92587c-dd4a-4ee3-ae09-94bc800c3c36",
   "metadata": {},
   "outputs": [],
   "source": []
  },
  {
   "cell_type": "code",
   "execution_count": null,
   "id": "399b75f7-3370-455b-9b7a-093fbd55acbb",
   "metadata": {},
   "outputs": [],
   "source": []
  },
  {
   "cell_type": "code",
   "execution_count": null,
   "id": "acd10c19-c2c2-40b1-ab64-cdf59dd9de91",
   "metadata": {},
   "outputs": [],
   "source": []
  },
  {
   "cell_type": "code",
   "execution_count": null,
   "id": "d37541ab-e0e1-4398-970d-3e74389521ce",
   "metadata": {},
   "outputs": [],
   "source": []
  },
  {
   "cell_type": "code",
   "execution_count": null,
   "id": "d6220563-84e2-4095-bc39-61aa98527079",
   "metadata": {},
   "outputs": [],
   "source": []
  },
  {
   "cell_type": "code",
   "execution_count": null,
   "id": "df5e5d92-26d1-4258-9d34-60323f73f5bb",
   "metadata": {},
   "outputs": [],
   "source": []
  }
 ],
 "metadata": {
  "kernelspec": {
   "display_name": "Python 3 (ipykernel)",
   "language": "python",
   "name": "python3"
  },
  "language_info": {
   "codemirror_mode": {
    "name": "ipython",
    "version": 3
   },
   "file_extension": ".py",
   "mimetype": "text/x-python",
   "name": "python",
   "nbconvert_exporter": "python",
   "pygments_lexer": "ipython3",
   "version": "3.12.7"
  }
 },
 "nbformat": 4,
 "nbformat_minor": 5
}
